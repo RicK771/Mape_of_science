{
 "cells": [
  {
   "cell_type": "markdown",
   "metadata": {},
   "source": [
    "<img src=\"https://www.ikiam.edu.ec/img/logo-ikiam-grey.png\" width=300 height=240 />\n",
    "\n",
    "# Map of Science \n",
    "\n",
    "## GBI6-2021II: BIOINFORMÁTICA\n",
    "\n",
    "**Caiza Ortiz Ricardo Xavier**\n",
    "\n",
    "**17-02-2022**"
   ]
  },
  {
   "cell_type": "code",
   "execution_count": 1,
   "metadata": {},
   "outputs": [],
   "source": [
    "# importo las librerías\n",
    "import re\n",
    "import csv\n",
    "import itertools"
   ]
  },
  {
   "cell_type": "code",
   "execution_count": 33,
   "metadata": {},
   "outputs": [],
   "source": [
    "# realizo el minado de autores\n",
    "f = open('pubmed-Phoneutria.txt',errors = 'ignore')\n",
    "Data = f.read()"
   ]
  },
  {
   "cell_type": "code",
   "execution_count": 34,
   "metadata": {},
   "outputs": [
    {
     "data": {
      "text/plain": [
       "806588"
      ]
     },
     "execution_count": 34,
     "metadata": {},
     "output_type": "execute_result"
    }
   ],
   "source": [
    "len(Data)"
   ]
  },
  {
   "cell_type": "markdown",
   "metadata": {},
   "source": [
    "Note that the zipcode could be broken over two lines, as in line 43 of `pubmed_results.txt`\n",
    "\n",
    "```\n",
    "AD  - Biological and Biomedical Sciences Program, Harvard Medical School, Boston, MA\n",
    "      02115, USA. Department of Genetics, Harvard Medical School, Boston, MA 02115,\n",
    "      USA.\n",
    "```\n",
    "\n",
    "To avoid problems, replace each newline followed by 6 spaces with a single space."
   ]
  },
  {
   "cell_type": "code",
   "execution_count": 36,
   "metadata": {},
   "outputs": [],
   "source": [
    " # replace each newline followed by 6 spaces with a single space.\n",
    "data = re.sub(r\"\\n\\s{6}\", \" \" , Data)"
   ]
  },
  {
   "cell_type": "markdown",
   "metadata": {},
   "source": [
    "We should now have every entry in a single line. Let's look at part of an entry:"
   ]
  },
  {
   "cell_type": "code",
   "execution_count": 37,
   "metadata": {},
   "outputs": [
    {
     "name": "stdout",
     "output_type": "stream",
     "text": [
      "PMID- 30003916\n",
      "OWN - NLM\n",
      "STAT- MEDLINE\n",
      "DCOM- 20181211\n",
      "LR  - 20181211\n",
      "IS  - 1879-3150 (Electronic)\n",
      "IS  - 0041-0101 (Linking)\n",
      "VI  - 151\n",
      "DP  - 2018 Sep 1\n",
      "TI  - Phoneutria nigriventer venom: A pharmacological treasure.\n",
      "PG  - 96-110\n",
      "LID - S0041-0101(18)30304-0 [pii]\n",
      "LID - 10.1016/j.toxicon.2018.07.008 [doi]\n",
      "AB  - In millions of years, spiders have optimized their venoms in order to assure \n",
      "      successful prey capture and defence against predators. Spider venoms have become \n",
      "      unique cocktails of biological active components enabling potentially interesting \n",
      "      application for drug discovery or for agricultural purposes. The venom of Phoneutria \n",
      "      nigriventer has been studied for over 60 years. This spider is responsible for a \n",
      "      high number of envenomations with severe clinical manifestations in humans, which \n",
      "      necessitates a comprehensive knowledge of its venom composition. With over 40 \n",
      "      different neurotoxic peptides characterized so far and still many more awaiting \n",
      "      identification, this venom is undoubtedly a pharmacological treasure. This review \n",
      "      provides an overview of the Phoneutria nigriventer toxins known today and describes \n",
      "      their mechanism of action at a molecular level. We critically discuss the potential \n",
      "      of the Phoneutria nigriventer venom peptides as pharmaceutical tools or lead \n",
      "      compounds for drug development.\n",
      "CI  - Copyright Â© 2018 Elsevier Ltd. All rights reserved.\n",
      "FAU - Peigneur, Steve\n",
      "AU  - Peigneur S\n",
      "AD  - Toxicology and Pharmacology, University of Leuven (KU Leuven), Campus Gasthuisberg, \n",
      "      PO Box 922, Herestraat 49, 3000 Leuven, Belgium; LaboratÃ³rio de Venenos e Toxinas \n",
      "      Animais, Dept de BioquÃ­mica e Imunologia, Instituto de CiÃªncias BiolÃ³gicas, \n",
      "      Universidade Federal de Minas Gerais, 31270-901, Belo-Horizonte, MG, Brazil.\n",
      "FAU - de Lima, Maria Elena\n",
      "AU  - de Lima ME\n",
      "AD  - LaboratÃ³rio de Venenos e Toxinas Animais, Dept de BioquÃ­mica e Imunologia, Instituto \n",
      "      de CiÃªnc\n"
     ]
    }
   ],
   "source": [
    "print(Data[:2000])"
   ]
  },
  {
   "cell_type": "markdown",
   "metadata": {},
   "source": [
    "Now write a regular expression that creates a list of zipcodes:"
   ]
  },
  {
   "cell_type": "code",
   "execution_count": 38,
   "metadata": {},
   "outputs": [],
   "source": [
    "# Extraemos los países \n",
    "My_Data = re.findall(r\"\\,\\s[A-Z]+[A-z]{2,30}\\.\", data)\n",
    "unique_codes = list(set(My_Data))\n",
    "unique_codes.sort()"
   ]
  },
  {
   "cell_type": "code",
   "execution_count": 39,
   "metadata": {},
   "outputs": [
    {
     "name": "stdout",
     "output_type": "stream",
     "text": [
      "[', Argentina.', ', Australia.', ', BACHD.', ', Belgium.', ', Brasil.', ', Brazil.', ', Canada.', ', China.', ', Colombia.', ', France.', ', Germany.', ', Inc.', ', Iran.', ', Italy.', ', Japan.', ', Korea.', ', Lab.', ', London.', ', Romania.', ', Sweden.', ', UNICAMP.', ', USA.']\n"
     ]
    }
   ],
   "source": [
    "a = unique_codes\n",
    "print(a)"
   ]
  },
  {
   "cell_type": "code",
   "execution_count": 40,
   "metadata": {},
   "outputs": [],
   "source": [
    "# remueve cualquier elemento que no sea considerado un país\n",
    "r = unique_codes\n",
    "r.remove(', BACHD.')\n",
    "r.remove(', Inc.')\n",
    "r.remove( ', UNICAMP.')"
   ]
  },
  {
   "cell_type": "code",
   "execution_count": 15,
   "metadata": {},
   "outputs": [
    {
     "name": "stdout",
     "output_type": "stream",
     "text": [
      "[', Argentina.', ', Australia.', ', Belgium.', ', Brasil.', ', Brazil.', ', Canada.', ', China.', ', Colombia.', ', France.', ', Germany.', ', Iran.', ', Italy.', ', Japan.', ', Korea.', ', Lab.', ', London.', ', Romania.', ', Sweden.', ', USA.']\n"
     ]
    }
   ],
   "source": [
    "print(r)"
   ]
  },
  {
   "cell_type": "code",
   "execution_count": 41,
   "metadata": {},
   "outputs": [],
   "source": [
    "a = \"\".join(unique_codes)\n",
    "b = a.split(\", \")\n",
    "c = \"\".join(b)\n",
    "unique_zipcodes = c.split(\".\")"
   ]
  },
  {
   "cell_type": "code",
   "execution_count": 17,
   "metadata": {},
   "outputs": [
    {
     "name": "stdout",
     "output_type": "stream",
     "text": [
      "[', Argentina.', ', Australia.', ', Belgium.', ', Brasil.', ', Brazil.', ', Canada.', ', China.', ', Colombia.', ', France.', ', Germany.', ', Iran.', ', Italy.', ', Japan.', ', Korea.', ', Lab.', ', London.', ', Romania.', ', Sweden.', ', USA.']\n"
     ]
    }
   ],
   "source": [
    "print(unique_codes[:20])"
   ]
  },
  {
   "cell_type": "code",
   "execution_count": 18,
   "metadata": {},
   "outputs": [
    {
     "data": {
      "text/plain": [
       "19"
      ]
     },
     "execution_count": 18,
     "metadata": {},
     "output_type": "execute_result"
    }
   ],
   "source": [
    "len(unique_codes)"
   ]
  },
  {
   "cell_type": "code",
   "execution_count": 26,
   "metadata": {},
   "outputs": [
    {
     "data": {
      "text/html": [
       "<div>\n",
       "<style scoped>\n",
       "    .dataframe tbody tr th:only-of-type {\n",
       "        vertical-align: middle;\n",
       "    }\n",
       "\n",
       "    .dataframe tbody tr th {\n",
       "        vertical-align: top;\n",
       "    }\n",
       "\n",
       "    .dataframe thead th {\n",
       "        text-align: right;\n",
       "    }\n",
       "</style>\n",
       "<table border=\"1\" class=\"dataframe\">\n",
       "  <thead>\n",
       "    <tr style=\"text-align: right;\">\n",
       "      <th></th>\n",
       "      <th>country</th>\n",
       "      <th>latitude</th>\n",
       "      <th>longitude</th>\n",
       "      <th>name</th>\n",
       "    </tr>\n",
       "  </thead>\n",
       "  <tbody>\n",
       "    <tr>\n",
       "      <th>0</th>\n",
       "      <td>AD</td>\n",
       "      <td>42.546245</td>\n",
       "      <td>1.601554</td>\n",
       "      <td>Andorra</td>\n",
       "    </tr>\n",
       "    <tr>\n",
       "      <th>1</th>\n",
       "      <td>AE</td>\n",
       "      <td>23.424076</td>\n",
       "      <td>53.847818</td>\n",
       "      <td>United Arab Emirates</td>\n",
       "    </tr>\n",
       "    <tr>\n",
       "      <th>2</th>\n",
       "      <td>AF</td>\n",
       "      <td>33.939110</td>\n",
       "      <td>67.709953</td>\n",
       "      <td>Afghanistan</td>\n",
       "    </tr>\n",
       "    <tr>\n",
       "      <th>3</th>\n",
       "      <td>AG</td>\n",
       "      <td>17.060816</td>\n",
       "      <td>-61.796428</td>\n",
       "      <td>Antigua and Barbuda</td>\n",
       "    </tr>\n",
       "    <tr>\n",
       "      <th>4</th>\n",
       "      <td>AI</td>\n",
       "      <td>18.220554</td>\n",
       "      <td>-63.068615</td>\n",
       "      <td>Anguilla</td>\n",
       "    </tr>\n",
       "    <tr>\n",
       "      <th>5</th>\n",
       "      <td>AL</td>\n",
       "      <td>41.153332</td>\n",
       "      <td>20.168331</td>\n",
       "      <td>Albania</td>\n",
       "    </tr>\n",
       "    <tr>\n",
       "      <th>6</th>\n",
       "      <td>AM</td>\n",
       "      <td>40.069099</td>\n",
       "      <td>45.038189</td>\n",
       "      <td>Armenia</td>\n",
       "    </tr>\n",
       "    <tr>\n",
       "      <th>7</th>\n",
       "      <td>AN</td>\n",
       "      <td>12.226079</td>\n",
       "      <td>-69.060087</td>\n",
       "      <td>Netherlands Antilles</td>\n",
       "    </tr>\n",
       "    <tr>\n",
       "      <th>8</th>\n",
       "      <td>AO</td>\n",
       "      <td>-11.202692</td>\n",
       "      <td>17.873887</td>\n",
       "      <td>Angola</td>\n",
       "    </tr>\n",
       "    <tr>\n",
       "      <th>9</th>\n",
       "      <td>AQ</td>\n",
       "      <td>-75.250973</td>\n",
       "      <td>-0.071389</td>\n",
       "      <td>Antarctica</td>\n",
       "    </tr>\n",
       "    <tr>\n",
       "      <th>10</th>\n",
       "      <td>AR</td>\n",
       "      <td>-38.416097</td>\n",
       "      <td>-63.616672</td>\n",
       "      <td>Argentina</td>\n",
       "    </tr>\n",
       "    <tr>\n",
       "      <th>11</th>\n",
       "      <td>AS</td>\n",
       "      <td>-14.270972</td>\n",
       "      <td>-170.132217</td>\n",
       "      <td>American Samoa</td>\n",
       "    </tr>\n",
       "    <tr>\n",
       "      <th>12</th>\n",
       "      <td>AT</td>\n",
       "      <td>47.516231</td>\n",
       "      <td>14.550072</td>\n",
       "      <td>Austria</td>\n",
       "    </tr>\n",
       "    <tr>\n",
       "      <th>13</th>\n",
       "      <td>AU</td>\n",
       "      <td>-25.274398</td>\n",
       "      <td>133.775136</td>\n",
       "      <td>Australia</td>\n",
       "    </tr>\n",
       "    <tr>\n",
       "      <th>14</th>\n",
       "      <td>AW</td>\n",
       "      <td>12.521110</td>\n",
       "      <td>-69.968338</td>\n",
       "      <td>Aruba</td>\n",
       "    </tr>\n",
       "    <tr>\n",
       "      <th>15</th>\n",
       "      <td>AZ</td>\n",
       "      <td>40.143105</td>\n",
       "      <td>47.576927</td>\n",
       "      <td>Azerbaijan</td>\n",
       "    </tr>\n",
       "    <tr>\n",
       "      <th>16</th>\n",
       "      <td>BA</td>\n",
       "      <td>43.915886</td>\n",
       "      <td>17.679076</td>\n",
       "      <td>Bosnia and Herzegovina</td>\n",
       "    </tr>\n",
       "    <tr>\n",
       "      <th>17</th>\n",
       "      <td>BB</td>\n",
       "      <td>13.193887</td>\n",
       "      <td>-59.543198</td>\n",
       "      <td>Barbados</td>\n",
       "    </tr>\n",
       "    <tr>\n",
       "      <th>18</th>\n",
       "      <td>BD</td>\n",
       "      <td>23.684994</td>\n",
       "      <td>90.356331</td>\n",
       "      <td>Bangladesh</td>\n",
       "    </tr>\n",
       "  </tbody>\n",
       "</table>\n",
       "</div>"
      ],
      "text/plain": [
       "   country   latitude   longitude                    name\n",
       "0       AD  42.546245    1.601554                 Andorra\n",
       "1       AE  23.424076   53.847818    United Arab Emirates\n",
       "2       AF  33.939110   67.709953             Afghanistan\n",
       "3       AG  17.060816  -61.796428     Antigua and Barbuda\n",
       "4       AI  18.220554  -63.068615                Anguilla\n",
       "5       AL  41.153332   20.168331                 Albania\n",
       "6       AM  40.069099   45.038189                 Armenia\n",
       "7       AN  12.226079  -69.060087    Netherlands Antilles\n",
       "8       AO -11.202692   17.873887                  Angola\n",
       "9       AQ -75.250973   -0.071389              Antarctica\n",
       "10      AR -38.416097  -63.616672               Argentina\n",
       "11      AS -14.270972 -170.132217          American Samoa\n",
       "12      AT  47.516231   14.550072                 Austria\n",
       "13      AU -25.274398  133.775136               Australia\n",
       "14      AW  12.521110  -69.968338                   Aruba\n",
       "15      AZ  40.143105   47.576927              Azerbaijan\n",
       "16      BA  43.915886   17.679076  Bosnia and Herzegovina\n",
       "17      BB  13.193887  -59.543198                Barbados\n",
       "18      BD  23.684994   90.356331              Bangladesh"
      ]
     },
     "execution_count": 26,
     "metadata": {},
     "output_type": "execute_result"
    }
   ],
   "source": [
    "# importo la librería para trabajar con tablas de datos\n",
    "import pandas as pd\n",
    "%matplotlib inline\n",
    "\n",
    "Coordenadas = pd.read_csv('countries_location.csv', engine='python', skipfooter=3)\n",
    "Coordenadas.head(19)"
   ]
  },
  {
   "cell_type": "code",
   "execution_count": 27,
   "metadata": {},
   "outputs": [
    {
     "data": {
      "text/html": [
       "<div>\n",
       "<style scoped>\n",
       "    .dataframe tbody tr th:only-of-type {\n",
       "        vertical-align: middle;\n",
       "    }\n",
       "\n",
       "    .dataframe tbody tr th {\n",
       "        vertical-align: top;\n",
       "    }\n",
       "\n",
       "    .dataframe thead th {\n",
       "        text-align: right;\n",
       "    }\n",
       "</style>\n",
       "<table border=\"1\" class=\"dataframe\">\n",
       "  <thead>\n",
       "    <tr style=\"text-align: right;\">\n",
       "      <th></th>\n",
       "      <th>ID_País</th>\n",
       "      <th>Latitud</th>\n",
       "      <th>Longitud</th>\n",
       "      <th>Nombre</th>\n",
       "    </tr>\n",
       "  </thead>\n",
       "  <tbody>\n",
       "    <tr>\n",
       "      <th>0</th>\n",
       "      <td>AD</td>\n",
       "      <td>42.546245</td>\n",
       "      <td>1.601554</td>\n",
       "      <td>Andorra</td>\n",
       "    </tr>\n",
       "    <tr>\n",
       "      <th>1</th>\n",
       "      <td>AE</td>\n",
       "      <td>23.424076</td>\n",
       "      <td>53.847818</td>\n",
       "      <td>United Arab Emirates</td>\n",
       "    </tr>\n",
       "    <tr>\n",
       "      <th>2</th>\n",
       "      <td>AF</td>\n",
       "      <td>33.939110</td>\n",
       "      <td>67.709953</td>\n",
       "      <td>Afghanistan</td>\n",
       "    </tr>\n",
       "    <tr>\n",
       "      <th>3</th>\n",
       "      <td>AG</td>\n",
       "      <td>17.060816</td>\n",
       "      <td>-61.796428</td>\n",
       "      <td>Antigua and Barbuda</td>\n",
       "    </tr>\n",
       "    <tr>\n",
       "      <th>4</th>\n",
       "      <td>AI</td>\n",
       "      <td>18.220554</td>\n",
       "      <td>-63.068615</td>\n",
       "      <td>Anguilla</td>\n",
       "    </tr>\n",
       "    <tr>\n",
       "      <th>5</th>\n",
       "      <td>AL</td>\n",
       "      <td>41.153332</td>\n",
       "      <td>20.168331</td>\n",
       "      <td>Albania</td>\n",
       "    </tr>\n",
       "    <tr>\n",
       "      <th>6</th>\n",
       "      <td>AM</td>\n",
       "      <td>40.069099</td>\n",
       "      <td>45.038189</td>\n",
       "      <td>Armenia</td>\n",
       "    </tr>\n",
       "    <tr>\n",
       "      <th>7</th>\n",
       "      <td>AN</td>\n",
       "      <td>12.226079</td>\n",
       "      <td>-69.060087</td>\n",
       "      <td>Netherlands Antilles</td>\n",
       "    </tr>\n",
       "    <tr>\n",
       "      <th>8</th>\n",
       "      <td>AO</td>\n",
       "      <td>-11.202692</td>\n",
       "      <td>17.873887</td>\n",
       "      <td>Angola</td>\n",
       "    </tr>\n",
       "    <tr>\n",
       "      <th>9</th>\n",
       "      <td>AQ</td>\n",
       "      <td>-75.250973</td>\n",
       "      <td>-0.071389</td>\n",
       "      <td>Antarctica</td>\n",
       "    </tr>\n",
       "    <tr>\n",
       "      <th>10</th>\n",
       "      <td>AR</td>\n",
       "      <td>-38.416097</td>\n",
       "      <td>-63.616672</td>\n",
       "      <td>Argentina</td>\n",
       "    </tr>\n",
       "    <tr>\n",
       "      <th>11</th>\n",
       "      <td>AS</td>\n",
       "      <td>-14.270972</td>\n",
       "      <td>-170.132217</td>\n",
       "      <td>American Samoa</td>\n",
       "    </tr>\n",
       "    <tr>\n",
       "      <th>12</th>\n",
       "      <td>AT</td>\n",
       "      <td>47.516231</td>\n",
       "      <td>14.550072</td>\n",
       "      <td>Austria</td>\n",
       "    </tr>\n",
       "    <tr>\n",
       "      <th>13</th>\n",
       "      <td>AU</td>\n",
       "      <td>-25.274398</td>\n",
       "      <td>133.775136</td>\n",
       "      <td>Australia</td>\n",
       "    </tr>\n",
       "    <tr>\n",
       "      <th>14</th>\n",
       "      <td>AW</td>\n",
       "      <td>12.521110</td>\n",
       "      <td>-69.968338</td>\n",
       "      <td>Aruba</td>\n",
       "    </tr>\n",
       "    <tr>\n",
       "      <th>15</th>\n",
       "      <td>AZ</td>\n",
       "      <td>40.143105</td>\n",
       "      <td>47.576927</td>\n",
       "      <td>Azerbaijan</td>\n",
       "    </tr>\n",
       "    <tr>\n",
       "      <th>16</th>\n",
       "      <td>BA</td>\n",
       "      <td>43.915886</td>\n",
       "      <td>17.679076</td>\n",
       "      <td>Bosnia and Herzegovina</td>\n",
       "    </tr>\n",
       "    <tr>\n",
       "      <th>17</th>\n",
       "      <td>BB</td>\n",
       "      <td>13.193887</td>\n",
       "      <td>-59.543198</td>\n",
       "      <td>Barbados</td>\n",
       "    </tr>\n",
       "    <tr>\n",
       "      <th>18</th>\n",
       "      <td>BD</td>\n",
       "      <td>23.684994</td>\n",
       "      <td>90.356331</td>\n",
       "      <td>Bangladesh</td>\n",
       "    </tr>\n",
       "  </tbody>\n",
       "</table>\n",
       "</div>"
      ],
      "text/plain": [
       "   ID_País    Latitud    Longitud                  Nombre\n",
       "0       AD  42.546245    1.601554                 Andorra\n",
       "1       AE  23.424076   53.847818    United Arab Emirates\n",
       "2       AF  33.939110   67.709953             Afghanistan\n",
       "3       AG  17.060816  -61.796428     Antigua and Barbuda\n",
       "4       AI  18.220554  -63.068615                Anguilla\n",
       "5       AL  41.153332   20.168331                 Albania\n",
       "6       AM  40.069099   45.038189                 Armenia\n",
       "7       AN  12.226079  -69.060087    Netherlands Antilles\n",
       "8       AO -11.202692   17.873887                  Angola\n",
       "9       AQ -75.250973   -0.071389              Antarctica\n",
       "10      AR -38.416097  -63.616672               Argentina\n",
       "11      AS -14.270972 -170.132217          American Samoa\n",
       "12      AT  47.516231   14.550072                 Austria\n",
       "13      AU -25.274398  133.775136               Australia\n",
       "14      AW  12.521110  -69.968338                   Aruba\n",
       "15      AZ  40.143105   47.576927              Azerbaijan\n",
       "16      BA  43.915886   17.679076  Bosnia and Herzegovina\n",
       "17      BB  13.193887  -59.543198                Barbados\n",
       "18      BD  23.684994   90.356331              Bangladesh"
      ]
     },
     "execution_count": 27,
     "metadata": {},
     "output_type": "execute_result"
    }
   ],
   "source": [
    "# llamamos a los datos para la grafica:\n",
    "Coordenadas.columns = [\"ID_País\", \"Latitud\", \"Longitud\", \"Nombre\"]\n",
    "Coordenadas.head(19)"
   ]
  },
  {
   "cell_type": "code",
   "execution_count": 28,
   "metadata": {},
   "outputs": [],
   "source": [
    "datos_nombre = Coordenadas[Coordenadas.Nombre.isin(unique_zipcodes)]\n",
    "datos_paises = Coordenadas[Coordenadas.ID_País.isin(unique_zipcodes)]\n",
    "all_data =pd.concat([datos_nombre,datos_paises]).drop_duplicates().sort_values('Nombre')"
   ]
  },
  {
   "cell_type": "code",
   "execution_count": 30,
   "metadata": {},
   "outputs": [
    {
     "data": {
      "text/html": [
       "<div>\n",
       "<style scoped>\n",
       "    .dataframe tbody tr th:only-of-type {\n",
       "        vertical-align: middle;\n",
       "    }\n",
       "\n",
       "    .dataframe tbody tr th {\n",
       "        vertical-align: top;\n",
       "    }\n",
       "\n",
       "    .dataframe thead th {\n",
       "        text-align: right;\n",
       "    }\n",
       "</style>\n",
       "<table border=\"1\" class=\"dataframe\">\n",
       "  <thead>\n",
       "    <tr style=\"text-align: right;\">\n",
       "      <th></th>\n",
       "      <th>ID_País</th>\n",
       "      <th>Latitud</th>\n",
       "      <th>Longitud</th>\n",
       "      <th>Nombre</th>\n",
       "    </tr>\n",
       "  </thead>\n",
       "  <tbody>\n",
       "    <tr>\n",
       "      <th>10</th>\n",
       "      <td>AR</td>\n",
       "      <td>-38.416097</td>\n",
       "      <td>-63.616672</td>\n",
       "      <td>Argentina</td>\n",
       "    </tr>\n",
       "    <tr>\n",
       "      <th>13</th>\n",
       "      <td>AU</td>\n",
       "      <td>-25.274398</td>\n",
       "      <td>133.775136</td>\n",
       "      <td>Australia</td>\n",
       "    </tr>\n",
       "    <tr>\n",
       "      <th>19</th>\n",
       "      <td>BE</td>\n",
       "      <td>50.503887</td>\n",
       "      <td>4.469936</td>\n",
       "      <td>Belgium</td>\n",
       "    </tr>\n",
       "    <tr>\n",
       "      <th>28</th>\n",
       "      <td>BR</td>\n",
       "      <td>-14.235004</td>\n",
       "      <td>-51.925280</td>\n",
       "      <td>Brazil</td>\n",
       "    </tr>\n",
       "    <tr>\n",
       "      <th>35</th>\n",
       "      <td>CA</td>\n",
       "      <td>56.130366</td>\n",
       "      <td>-106.346771</td>\n",
       "      <td>Canada</td>\n",
       "    </tr>\n",
       "    <tr>\n",
       "      <th>45</th>\n",
       "      <td>CN</td>\n",
       "      <td>35.861660</td>\n",
       "      <td>104.195397</td>\n",
       "      <td>China</td>\n",
       "    </tr>\n",
       "    <tr>\n",
       "      <th>46</th>\n",
       "      <td>CO</td>\n",
       "      <td>4.570868</td>\n",
       "      <td>-74.297333</td>\n",
       "      <td>Colombia</td>\n",
       "    </tr>\n",
       "    <tr>\n",
       "      <th>71</th>\n",
       "      <td>FR</td>\n",
       "      <td>46.227638</td>\n",
       "      <td>2.213749</td>\n",
       "      <td>France</td>\n",
       "    </tr>\n",
       "    <tr>\n",
       "      <th>53</th>\n",
       "      <td>DE</td>\n",
       "      <td>51.165691</td>\n",
       "      <td>10.451526</td>\n",
       "      <td>Germany</td>\n",
       "    </tr>\n",
       "    <tr>\n",
       "      <th>105</th>\n",
       "      <td>IR</td>\n",
       "      <td>32.427908</td>\n",
       "      <td>53.688046</td>\n",
       "      <td>Iran</td>\n",
       "    </tr>\n",
       "  </tbody>\n",
       "</table>\n",
       "</div>"
      ],
      "text/plain": [
       "    ID_País    Latitud    Longitud     Nombre\n",
       "10       AR -38.416097  -63.616672  Argentina\n",
       "13       AU -25.274398  133.775136  Australia\n",
       "19       BE  50.503887    4.469936    Belgium\n",
       "28       BR -14.235004  -51.925280     Brazil\n",
       "35       CA  56.130366 -106.346771     Canada\n",
       "45       CN  35.861660  104.195397      China\n",
       "46       CO   4.570868  -74.297333   Colombia\n",
       "71       FR  46.227638    2.213749     France\n",
       "53       DE  51.165691   10.451526    Germany\n",
       "105      IR  32.427908   53.688046       Iran"
      ]
     },
     "execution_count": 30,
     "metadata": {},
     "output_type": "execute_result"
    }
   ],
   "source": [
    "all_data.head(10)"
   ]
  },
  {
   "cell_type": "code",
   "execution_count": 42,
   "metadata": {},
   "outputs": [
    {
     "data": {
      "image/png": "[encoded data removed]",
      "text/plain": [
       "<Figure size 1296x864 with 2 Axes>"
      ]
     },
     "metadata": {
      "needs_background": "light"
     },
     "output_type": "display_data"
    }
   ],
   "source": [
    "import matplotlib.pyplot as plt\n",
    "plt.scatter(all_data.Longitud, all_data.Latitud, s=50, c=all_data.Latitud)\n",
    "plt.colorbar()\n",
    "\n",
    "ard = dict(arrowstyle=\"->\")\n",
    "plt.annotate('USA', xy = (-95.712891, 37.09024), \n",
    "               xytext = (-95.712891, 40), arrowprops = ard)\n",
    "plt.annotate('UCRANIA', xy = (31.16558,48.379433), \n",
    "               xytext = (31.16558,51), arrowprops= ard)\n",
    "plt.annotate('BRASIL', xy = (-51.92528, -14.235004), \n",
    "               xytext = (-51.92528, -11), arrowprops= ard)\n",
    "plt.annotate('CHINA', xy = (104.195397, 35.86166), \n",
    "               xytext = (104.195397, 39), arrowprops= ard)\n",
    "plt.annotate('AUSTRALIA', xy = (133.775136, -25.274398), \n",
    "               xytext = (133.775136, -22), arrowprops= ard)\n",
    "plt.annotate('NORUEGA', xy = (8.468946, 60.472024), \n",
    "               xytext = (8.468946, 63), arrowprops= ard)\n",
    "params = plt.gcf()\n",
    "plSize = params.get_size_inches()\n",
    "params.set_size_inches( (plSize[0] * 3, plSize[1] * 3) )"
   ]
  },
  {
   "cell_type": "code",
   "execution_count": null,
   "metadata": {},
   "outputs": [],
   "source": []
  }
 ],
 "metadata": {
  "kernelspec": {
   "display_name": "Python 3",
   "language": "python",
   "name": "python3"
  },
  "language_info": {
   "codemirror_mode": {
    "name": "ipython",
    "version": 3
   },
   "file_extension": ".py",
   "mimetype": "text/x-python",
   "name": "python",
   "nbconvert_exporter": "python",
   "pygments_lexer": "ipython3",
   "version": "3.8.8"
  }
 },
 "nbformat": 4,
 "nbformat_minor": 4
}
